{
 "cells": [
  {
   "cell_type": "code",
   "execution_count": 61,
   "id": "c7a52297",
   "metadata": {},
   "outputs": [],
   "source": [
    "import pandas as pd        # For data manipulation and analysis\n",
    "import numpy as np         # For numerical computations\n",
    "import matplotlib.pyplot as plt   # For data visualization\n",
    "from sklearn.model_selection import train_test_split   # For splitting data into training and testing sets\n",
    "from sklearn.preprocessing import LabelEncoder       # For encoding categorical variables\n",
    "from sklearn.metrics import accuracy_score, confusion_matrix, classification_report   # For model evaluation\n",
    "from sklearn.model_selection import GridSearchCV      # For hyperparameter tuning\n",
    "from sklearn.pipeline import Pipeline                # For building pipelines of data preprocessing and model building steps\n",
    "from sklearn.feature_selection import SelectKBest, f_classif  # For feature selection\n",
    "from sklearn.ensemble import RandomForestClassifier  "
   ]
  },
  {
   "cell_type": "markdown",
   "id": "74536783",
   "metadata": {},
   "source": [
    "# LOADING THE DATASET"
   ]
  },
  {
   "cell_type": "code",
   "execution_count": 62,
   "id": "d42bb62e",
   "metadata": {},
   "outputs": [],
   "source": [
    "df = pd.read_csv(\"adult-entire dataset.csv\")"
   ]
  },
  {
   "cell_type": "code",
   "execution_count": 63,
   "id": "0eff1717",
   "metadata": {},
   "outputs": [
    {
     "name": "stdout",
     "output_type": "stream",
     "text": [
      "   age          workClass   Education       marital-status  \\\n",
      "0   39          State-gov   Bachelors        Never-married   \n",
      "1   50   Self-emp-not-inc   Bachelors   Married-civ-spouse   \n",
      "2   38            Private     HS-grad             Divorced   \n",
      "3   53            Private        11th   Married-civ-spouse   \n",
      "4   28            Private   Bachelors   Married-civ-spouse   \n",
      "\n",
      "           occupation    race      sex  hours-per-week  Income  \n",
      "0        Adm-clerical   White     Male              40   <=50K  \n",
      "1     Exec-managerial   White     Male              13   <=50K  \n",
      "2   Handlers-cleaners   White     Male              40   <=50K  \n",
      "3   Handlers-cleaners   Black     Male              40   <=50K  \n",
      "4      Prof-specialty   Black   Female              40   <=50K  \n"
     ]
    }
   ],
   "source": [
    "print(df.head())"
   ]
  },
  {
   "cell_type": "markdown",
   "id": "ec1e8e32",
   "metadata": {},
   "source": [
    "# Checking missing values"
   ]
  },
  {
   "cell_type": "code",
   "execution_count": 64,
   "id": "f1b5e70f",
   "metadata": {},
   "outputs": [
    {
     "name": "stdout",
     "output_type": "stream",
     "text": [
      "age               0\n",
      "workClass         0\n",
      "Education         0\n",
      "marital-status    0\n",
      "occupation        0\n",
      "race              0\n",
      "sex               0\n",
      "hours-per-week    0\n",
      "Income            0\n",
      "dtype: int64\n"
     ]
    }
   ],
   "source": [
    "missing_values_count = df.isnull().sum()\n",
    "print(missing_values_count)"
   ]
  },
  {
   "cell_type": "code",
   "execution_count": 65,
   "id": "07a52486",
   "metadata": {},
   "outputs": [
    {
     "name": "stdout",
     "output_type": "stream",
     "text": [
      " Private             22696\n",
      " Self-emp-not-inc     2541\n",
      " Local-gov            2093\n",
      " ?                    1836\n",
      " State-gov            1298\n",
      " Self-emp-inc         1116\n",
      " Federal-gov           960\n",
      " Without-pay            14\n",
      " Never-worked            7\n",
      "Name: workClass, dtype: int64\n",
      " HS-grad         10501\n",
      " Some-college     7291\n",
      " Bachelors        5355\n",
      " Masters          1723\n",
      " Assoc-voc        1382\n",
      " 11th             1175\n",
      " Assoc-acdm       1067\n",
      " 10th              933\n",
      " 7th-8th           646\n",
      " Prof-school       576\n",
      " 9th               514\n",
      " 12th              433\n",
      " Doctorate         413\n",
      " 5th-6th           333\n",
      " 1st-4th           168\n",
      " Preschool          51\n",
      "Name: Education, dtype: int64\n",
      " Married-civ-spouse       14976\n",
      " Never-married            10683\n",
      " Divorced                  4443\n",
      " Separated                 1025\n",
      " Widowed                    993\n",
      " Married-spouse-absent      418\n",
      " Married-AF-spouse           23\n",
      "Name: marital-status, dtype: int64\n",
      " Prof-specialty       4140\n",
      " Craft-repair         4099\n",
      " Exec-managerial      4066\n",
      " Adm-clerical         3770\n",
      " Sales                3650\n",
      " Other-service        3295\n",
      " Machine-op-inspct    2002\n",
      " ?                    1843\n",
      " Transport-moving     1597\n",
      " Handlers-cleaners    1370\n",
      " Farming-fishing       994\n",
      " Tech-support          928\n",
      " Protective-serv       649\n",
      " Priv-house-serv       149\n",
      " Armed-Forces            9\n",
      "Name: occupation, dtype: int64\n",
      " White                 27816\n",
      " Black                  3124\n",
      " Asian-Pac-Islander     1039\n",
      " Amer-Indian-Eskimo      311\n",
      " Other                   271\n",
      "Name: race, dtype: int64\n",
      " Male      21790\n",
      " Female    10771\n",
      "Name: sex, dtype: int64\n",
      " <=50K    24720\n",
      " >50K      7841\n",
      "Name: Income, dtype: int64\n"
     ]
    }
   ],
   "source": [
    "for col in df.columns:\n",
    "    if df[col].dtype == object:  # Only check columns with object (string) dtype\n",
    "        print(df[col].value_counts())"
   ]
  },
  {
   "cell_type": "markdown",
   "id": "3db1932c",
   "metadata": {},
   "source": [
    "SIZE OF DATASET"
   ]
  },
  {
   "cell_type": "code",
   "execution_count": 66,
   "id": "a78cf686",
   "metadata": {},
   "outputs": [
    {
     "name": "stdout",
     "output_type": "stream",
     "text": [
      "Number of rows: 32561\n",
      "Number of columns: 9\n"
     ]
    }
   ],
   "source": [
    "rows, cols = df.shape\n",
    "print(\"Number of rows:\", rows)\n",
    "print(\"Number of columns:\", cols)"
   ]
  },
  {
   "cell_type": "code",
   "execution_count": 67,
   "id": "90428059",
   "metadata": {},
   "outputs": [],
   "source": [
    "df = pd.DataFrame({'age': [25, 30, 35, None, 40],\n",
    "                   'workClass': ['Private', None, 'Local-gov', '?', 'State-gov'],\n",
    "                   'Education': ['Bachelors', 'Masters', 'HS-grad', 'Some-college', 'Bachelors']})"
   ]
  },
  {
   "cell_type": "code",
   "execution_count": 68,
   "id": "e544f8bf",
   "metadata": {},
   "outputs": [],
   "source": [
    "df['workClass'].fillna('Unknown', inplace=True)"
   ]
  },
  {
   "cell_type": "code",
   "execution_count": 69,
   "id": "0bba10d6",
   "metadata": {},
   "outputs": [
    {
     "name": "stdout",
     "output_type": "stream",
     "text": [
      "0\n"
     ]
    }
   ],
   "source": [
    "print(df['workClass'].isnull().sum())"
   ]
  },
  {
   "cell_type": "markdown",
   "id": "29b70cf5",
   "metadata": {},
   "source": [
    "# Removing all rows with ? values"
   ]
  },
  {
   "cell_type": "code",
   "execution_count": 70,
   "id": "34507a7f",
   "metadata": {},
   "outputs": [
    {
     "name": "stdout",
     "output_type": "stream",
     "text": [
      "(32561, 9)\n"
     ]
    }
   ],
   "source": [
    "\n",
    "# read in the data, specifying \"?\" as the missing value\n",
    "df = pd.read_csv('adult-entire dataset.csv', na_values='?')\n",
    "\n",
    "# drop rows with missing values\n",
    "df = df.dropna()\n",
    "\n",
    "# check the new size of the data frame\n",
    "print(df.shape)"
   ]
  },
  {
   "cell_type": "code",
   "execution_count": 71,
   "id": "3242f277",
   "metadata": {},
   "outputs": [],
   "source": [
    "df = df[(df['workClass'] != '?') & (df['occupation'] != '?')]"
   ]
  },
  {
   "cell_type": "code",
   "execution_count": 72,
   "id": "89b9a36d",
   "metadata": {},
   "outputs": [
    {
     "name": "stdout",
     "output_type": "stream",
     "text": [
      "(32561, 9)\n"
     ]
    }
   ],
   "source": [
    "print(df.shape)"
   ]
  },
  {
   "cell_type": "code",
   "execution_count": 73,
   "id": "54ea6981",
   "metadata": {},
   "outputs": [],
   "source": [
    "import numpy as np\n",
    "\n",
    "df = df.replace('?', np.nan)\n",
    "df = df.dropna()"
   ]
  },
  {
   "cell_type": "code",
   "execution_count": 77,
   "id": "ef0d85ae",
   "metadata": {},
   "outputs": [
    {
     "name": "stdout",
     "output_type": "stream",
     "text": [
      " Private             22696\n",
      " Self-emp-not-inc     2541\n",
      " Local-gov            2093\n",
      " ?                    1836\n",
      " State-gov            1298\n",
      " Self-emp-inc         1116\n",
      " Federal-gov           960\n",
      " Without-pay            14\n",
      " Never-worked            7\n",
      "Name: workClass, dtype: int64\n",
      " HS-grad         10501\n",
      " Some-college     7291\n",
      " Bachelors        5355\n",
      " Masters          1723\n",
      " Assoc-voc        1382\n",
      " 11th             1175\n",
      " Assoc-acdm       1067\n",
      " 10th              933\n",
      " 7th-8th           646\n",
      " Prof-school       576\n",
      " 9th               514\n",
      " 12th              433\n",
      " Doctorate         413\n",
      " 5th-6th           333\n",
      " 1st-4th           168\n",
      " Preschool          51\n",
      "Name: Education, dtype: int64\n",
      " Married-civ-spouse       14976\n",
      " Never-married            10683\n",
      " Divorced                  4443\n",
      " Separated                 1025\n",
      " Widowed                    993\n",
      " Married-spouse-absent      418\n",
      " Married-AF-spouse           23\n",
      "Name: marital-status, dtype: int64\n",
      " Prof-specialty       4140\n",
      " Craft-repair         4099\n",
      " Exec-managerial      4066\n",
      " Adm-clerical         3770\n",
      " Sales                3650\n",
      " Other-service        3295\n",
      " Machine-op-inspct    2002\n",
      " ?                    1843\n",
      " Transport-moving     1597\n",
      " Handlers-cleaners    1370\n",
      " Farming-fishing       994\n",
      " Tech-support          928\n",
      " Protective-serv       649\n",
      " Priv-house-serv       149\n",
      " Armed-Forces            9\n",
      "Name: occupation, dtype: int64\n",
      " White                 27816\n",
      " Black                  3124\n",
      " Asian-Pac-Islander     1039\n",
      " Amer-Indian-Eskimo      311\n",
      " Other                   271\n",
      "Name: race, dtype: int64\n",
      " Male      21790\n",
      " Female    10771\n",
      "Name: sex, dtype: int64\n",
      " <=50K    24720\n",
      " >50K      7841\n",
      "Name: Income, dtype: int64\n"
     ]
    }
   ],
   "source": [
    "print(df['workClass'].value_counts())\n",
    "print(df['Education'].value_counts())\n",
    "print(df['marital-status'].value_counts())\n",
    "print(df['occupation'].value_counts())\n",
    "print(df['race'].value_counts())\n",
    "print(df['sex'].value_counts())\n",
    "print(df['Income'].value_counts())"
   ]
  },
  {
   "cell_type": "code",
   "execution_count": 78,
   "id": "4399bf59",
   "metadata": {},
   "outputs": [
    {
     "name": "stdout",
     "output_type": "stream",
     "text": [
      " Private             22696\n",
      " Self-emp-not-inc     2541\n",
      " Local-gov            2093\n",
      " ?                    1836\n",
      " State-gov            1298\n",
      " Self-emp-inc         1116\n",
      " Federal-gov           960\n",
      " Without-pay            14\n",
      " Never-worked            7\n",
      "Name: workClass, dtype: int64\n"
     ]
    }
   ],
   "source": [
    "print(df['workClass'].value_counts())"
   ]
  },
  {
   "cell_type": "code",
   "execution_count": 79,
   "id": "9f622b4e",
   "metadata": {},
   "outputs": [],
   "source": [
    "df = df[df != '?'].dropna()"
   ]
  },
  {
   "cell_type": "code",
   "execution_count": 80,
   "id": "79504839",
   "metadata": {},
   "outputs": [],
   "source": [
    "import numpy as np\n",
    "import pandas as pd\n",
    "\n",
    "df.replace('?', np.nan, inplace=True)"
   ]
  },
  {
   "cell_type": "code",
   "execution_count": 81,
   "id": "f2080bac",
   "metadata": {},
   "outputs": [
    {
     "name": "stdout",
     "output_type": "stream",
     "text": [
      "age               0\n",
      "workClass         0\n",
      "Education         0\n",
      "marital-status    0\n",
      "occupation        0\n",
      "race              0\n",
      "sex               0\n",
      "hours-per-week    0\n",
      "Income            0\n",
      "dtype: int64\n"
     ]
    },
    {
     "name": "stderr",
     "output_type": "stream",
     "text": [
      "C:\\Users\\pavan\\AppData\\Local\\Temp\\ipykernel_50368\\1689290163.py:3: FutureWarning: The pandas.np module is deprecated and will be removed from pandas in a future version. Import numpy directly instead.\n",
      "  df.replace('?', pd.np.nan, inplace=True)\n"
     ]
    }
   ],
   "source": [
    "import pandas as pd\n",
    "# Replace \"?\" with NaN\n",
    "df.replace('?', pd.np.nan, inplace=True)\n",
    "\n",
    "# Check for missing values\n",
    "print(df.isnull().sum())"
   ]
  },
  {
   "cell_type": "code",
   "execution_count": 82,
   "id": "3284629d",
   "metadata": {},
   "outputs": [
    {
     "name": "stdout",
     "output_type": "stream",
     "text": [
      " Private             22696\n",
      " Self-emp-not-inc     2541\n",
      " Local-gov            2093\n",
      " ?                    1836\n",
      " State-gov            1298\n",
      " Self-emp-inc         1116\n",
      " Federal-gov           960\n",
      " Without-pay            14\n",
      " Never-worked            7\n",
      "Name: workClass, dtype: int64\n"
     ]
    }
   ],
   "source": [
    "print(df['workClass'].value_counts())"
   ]
  },
  {
   "cell_type": "code",
   "execution_count": 83,
   "id": "9216d482",
   "metadata": {},
   "outputs": [],
   "source": [
    "# Replace ? with NaN\n",
    "df.replace(' ?', np.nan, inplace=True)\n",
    "\n",
    "# Use strip method to remove leading/trailing whitespaces\n",
    "df = df.apply(lambda x: x.str.strip() if x.dtype == \"object\" else x)"
   ]
  },
  {
   "cell_type": "code",
   "execution_count": 84,
   "id": "c2f7a250",
   "metadata": {},
   "outputs": [
    {
     "name": "stdout",
     "output_type": "stream",
     "text": [
      "Private             22696\n",
      "Self-emp-not-inc     2541\n",
      "Local-gov            2093\n",
      "State-gov            1298\n",
      "Self-emp-inc         1116\n",
      "Federal-gov           960\n",
      "Without-pay            14\n",
      "Never-worked            7\n",
      "Name: workClass, dtype: int64\n"
     ]
    }
   ],
   "source": [
    "print(df['workClass'].value_counts())"
   ]
  },
  {
   "cell_type": "code",
   "execution_count": 85,
   "id": "843397b5",
   "metadata": {},
   "outputs": [
    {
     "name": "stdout",
     "output_type": "stream",
     "text": [
      "(30718, 9)\n"
     ]
    }
   ],
   "source": [
    "# Replace \"?\" with NaN\n",
    "df.replace('?', np.nan, inplace=True)\n",
    "\n",
    "# Remove rows with NaN values\n",
    "df.dropna(inplace=True)\n",
    "\n",
    "# Print the shape of the cleaned data\n",
    "print(df.shape)"
   ]
  },
  {
   "cell_type": "code",
   "execution_count": 86,
   "id": "9dd5af70",
   "metadata": {},
   "outputs": [
    {
     "name": "stdout",
     "output_type": "stream",
     "text": [
      "Prof-specialty       4140\n",
      "Craft-repair         4099\n",
      "Exec-managerial      4066\n",
      "Adm-clerical         3770\n",
      "Sales                3650\n",
      "Other-service        3295\n",
      "Machine-op-inspct    2002\n",
      "Transport-moving     1597\n",
      "Handlers-cleaners    1370\n",
      "Farming-fishing       994\n",
      "Tech-support          928\n",
      "Protective-serv       649\n",
      "Priv-house-serv       149\n",
      "Armed-Forces            9\n",
      "Name: occupation, dtype: int64\n"
     ]
    }
   ],
   "source": [
    "print(df['occupation'].value_counts())"
   ]
  },
  {
   "cell_type": "markdown",
   "id": "6f9fb18d",
   "metadata": {},
   "source": [
    "# Converting cat values to numerical"
   ]
  },
  {
   "cell_type": "code",
   "execution_count": 87,
   "id": "eeec4a50",
   "metadata": {},
   "outputs": [],
   "source": [
    "from sklearn.preprocessing import LabelEncoder\n",
    "\n",
    "# Create a label encoder object\n",
    "le = LabelEncoder()\n",
    "\n",
    "# Fit the label encoder to the 'workClass' column and transform the values\n",
    "df['workClass'] = le.fit_transform(df['workClass'])"
   ]
  },
  {
   "cell_type": "code",
   "execution_count": 88,
   "id": "99280a62",
   "metadata": {},
   "outputs": [
    {
     "name": "stdout",
     "output_type": "stream",
     "text": [
      "age                int64\n",
      "workClass           int8\n",
      "Education           int8\n",
      "marital-status    object\n",
      "occupation        object\n",
      "race              object\n",
      "sex               object\n",
      "hours-per-week     int64\n",
      "Income            object\n",
      "dtype: object\n"
     ]
    }
   ],
   "source": [
    "df[\"workClass\"] = df[\"workClass\"].astype(\"category\").cat.codes\n",
    "df[\"Education\"] = df[\"Education\"].astype(\"category\").cat.codes\n",
    "# Convert other categorical variables to numerical variables in a similar way\n",
    "\n",
    "# Check the data types of all the columns\n",
    "print(df.dtypes)"
   ]
  },
  {
   "cell_type": "code",
   "execution_count": 89,
   "id": "15758302",
   "metadata": {},
   "outputs": [],
   "source": [
    "df[\"marital-status\"] = df[\"marital-status\"].astype(\"category\").cat.codes\n",
    "df[\"occupation\"] = df[\"occupation\"].astype(\"category\").cat.codes\n",
    "df[\"race\"] = df[\"race\"].astype(\"category\").cat.codes\n",
    "df[\"sex\"] = df[\"sex\"].astype(\"category\").cat.codes\n",
    "df[\"Income\"] = df[\"Income\"].astype(\"category\").cat.codes"
   ]
  },
  {
   "cell_type": "code",
   "execution_count": 90,
   "id": "f6897c3b",
   "metadata": {},
   "outputs": [
    {
     "name": "stdout",
     "output_type": "stream",
     "text": [
      "age               int64\n",
      "workClass          int8\n",
      "Education          int8\n",
      "marital-status     int8\n",
      "occupation         int8\n",
      "race               int8\n",
      "sex                int8\n",
      "hours-per-week    int64\n",
      "Income             int8\n",
      "dtype: object\n"
     ]
    }
   ],
   "source": [
    "print(df.dtypes)"
   ]
  },
  {
   "cell_type": "code",
   "execution_count": 91,
   "id": "7b8c599e",
   "metadata": {},
   "outputs": [
    {
     "name": "stdout",
     "output_type": "stream",
     "text": [
      "[4 2 0 3 5 1 6]\n"
     ]
    }
   ],
   "source": [
    "print(df['marital-status'].unique())"
   ]
  },
  {
   "cell_type": "markdown",
   "id": "e87016c3",
   "metadata": {},
   "source": [
    "Married-civ-spouse: 4\n",
    "Never-married: 2\n",
    "Divorced: 0\n",
    "Separated: 1\n",
    "Widowed: 3"
   ]
  },
  {
   "cell_type": "code",
   "execution_count": 92,
   "id": "d1d90b30",
   "metadata": {},
   "outputs": [
    {
     "name": "stdout",
     "output_type": "stream",
     "text": [
      "[5 4 2 0 1 3 6]\n"
     ]
    }
   ],
   "source": [
    "print(df['workClass'].unique())"
   ]
  },
  {
   "cell_type": "code",
   "execution_count": 93,
   "id": "2f6931f2",
   "metadata": {},
   "outputs": [
    {
     "name": "stdout",
     "output_type": "stream",
     "text": [
      "[ 0  3  5  9  7 11  2 13  4  6 12 10  1  8]\n"
     ]
    }
   ],
   "source": [
    "print(df['occupation'].unique())"
   ]
  },
  {
   "cell_type": "code",
   "execution_count": 94,
   "id": "ed781e25",
   "metadata": {},
   "outputs": [
    {
     "name": "stdout",
     "output_type": "stream",
     "text": [
      "[ 9 11  1 12  6 15  7  8  5 10 14  4  0 13  2  3]\n"
     ]
    }
   ],
   "source": [
    "print(df['Education'].unique())"
   ]
  },
  {
   "cell_type": "code",
   "execution_count": 95,
   "id": "64d9b789",
   "metadata": {},
   "outputs": [
    {
     "name": "stdout",
     "output_type": "stream",
     "text": [
      "[1 0]\n"
     ]
    }
   ],
   "source": [
    "print(df['sex'].unique())"
   ]
  },
  {
   "cell_type": "code",
   "execution_count": 96,
   "id": "32cc05c7",
   "metadata": {},
   "outputs": [
    {
     "name": "stdout",
     "output_type": "stream",
     "text": [
      "1    20788\n",
      "0     9930\n",
      "Name: sex, dtype: int64\n"
     ]
    }
   ],
   "source": [
    "print(df['sex'].value_counts())"
   ]
  },
  {
   "cell_type": "markdown",
   "id": "8bc4f751",
   "metadata": {},
   "source": [
    "4.\tEliminate any columns from the data that may not be relevant to your objectives"
   ]
  },
  {
   "cell_type": "markdown",
   "id": "a06f8cfb",
   "metadata": {},
   "source": [
    "# I'm going to remove race and gender columns from my dataset"
   ]
  },
  {
   "cell_type": "code",
   "execution_count": 97,
   "id": "053aa911",
   "metadata": {},
   "outputs": [],
   "source": [
    "df = df.drop(['race', 'sex'], axis=1)"
   ]
  },
  {
   "cell_type": "code",
   "execution_count": 98,
   "id": "426ee152",
   "metadata": {},
   "outputs": [
    {
     "name": "stdout",
     "output_type": "stream",
     "text": [
      "   age  workClass  Education  marital-status  occupation  hours-per-week  \\\n",
      "0   39          5          9               4           0              40   \n",
      "1   50          4          9               2           3              13   \n",
      "2   38          2         11               0           5              40   \n",
      "3   53          2          1               2           5              40   \n",
      "4   28          2          9               2           9              40   \n",
      "\n",
      "   Income  \n",
      "0       0  \n",
      "1       0  \n",
      "2       0  \n",
      "3       0  \n",
      "4       0  \n"
     ]
    }
   ],
   "source": [
    "print(df.head())"
   ]
  }
 ],
 "metadata": {
  "kernelspec": {
   "display_name": "Python 3 (ipykernel)",
   "language": "python",
   "name": "python3"
  },
  "language_info": {
   "codemirror_mode": {
    "name": "ipython",
    "version": 3
   },
   "file_extension": ".py",
   "mimetype": "text/x-python",
   "name": "python",
   "nbconvert_exporter": "python",
   "pygments_lexer": "ipython3",
   "version": "3.9.12"
  }
 },
 "nbformat": 4,
 "nbformat_minor": 5
}
