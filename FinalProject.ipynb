{
 "cells": [
  {
   "cell_type": "code",
   "execution_count": 18,
   "id": "f574f48c",
   "metadata": {},
   "outputs": [],
   "source": [
    "#Import Libraries\n",
    "import pandas as pd\n",
    "import numpy as np\n",
    "import matplotlib.pyplot as plt"
   ]
  },
  {
   "cell_type": "code",
   "execution_count": 19,
   "id": "151802b2",
   "metadata": {},
   "outputs": [],
   "source": [
    "#Read data from the CSV file\n",
    "df=pd.read_csv(\"adult-entire dataset.csv\")"
   ]
  },
  {
   "cell_type": "code",
   "execution_count": 20,
   "id": "ee50f6de",
   "metadata": {},
   "outputs": [
    {
     "data": {
      "text/html": [
       "<div>\n",
       "<style scoped>\n",
       "    .dataframe tbody tr th:only-of-type {\n",
       "        vertical-align: middle;\n",
       "    }\n",
       "\n",
       "    .dataframe tbody tr th {\n",
       "        vertical-align: top;\n",
       "    }\n",
       "\n",
       "    .dataframe thead th {\n",
       "        text-align: right;\n",
       "    }\n",
       "</style>\n",
       "<table border=\"1\" class=\"dataframe\">\n",
       "  <thead>\n",
       "    <tr style=\"text-align: right;\">\n",
       "      <th></th>\n",
       "      <th>age</th>\n",
       "      <th>workClass</th>\n",
       "      <th>Education</th>\n",
       "      <th>marital-status</th>\n",
       "      <th>occupation</th>\n",
       "      <th>race</th>\n",
       "      <th>sex</th>\n",
       "      <th>hours-per-week</th>\n",
       "      <th>Income</th>\n",
       "    </tr>\n",
       "  </thead>\n",
       "  <tbody>\n",
       "    <tr>\n",
       "      <th>0</th>\n",
       "      <td>39</td>\n",
       "      <td>State-gov</td>\n",
       "      <td>Bachelors</td>\n",
       "      <td>Never-married</td>\n",
       "      <td>Adm-clerical</td>\n",
       "      <td>White</td>\n",
       "      <td>Male</td>\n",
       "      <td>40</td>\n",
       "      <td>&lt;=50K</td>\n",
       "    </tr>\n",
       "    <tr>\n",
       "      <th>1</th>\n",
       "      <td>50</td>\n",
       "      <td>Self-emp-not-inc</td>\n",
       "      <td>Bachelors</td>\n",
       "      <td>Married-civ-spouse</td>\n",
       "      <td>Exec-managerial</td>\n",
       "      <td>White</td>\n",
       "      <td>Male</td>\n",
       "      <td>13</td>\n",
       "      <td>&lt;=50K</td>\n",
       "    </tr>\n",
       "    <tr>\n",
       "      <th>2</th>\n",
       "      <td>38</td>\n",
       "      <td>Private</td>\n",
       "      <td>HS-grad</td>\n",
       "      <td>Divorced</td>\n",
       "      <td>Handlers-cleaners</td>\n",
       "      <td>White</td>\n",
       "      <td>Male</td>\n",
       "      <td>40</td>\n",
       "      <td>&lt;=50K</td>\n",
       "    </tr>\n",
       "    <tr>\n",
       "      <th>3</th>\n",
       "      <td>53</td>\n",
       "      <td>Private</td>\n",
       "      <td>11th</td>\n",
       "      <td>Married-civ-spouse</td>\n",
       "      <td>Handlers-cleaners</td>\n",
       "      <td>Black</td>\n",
       "      <td>Male</td>\n",
       "      <td>40</td>\n",
       "      <td>&lt;=50K</td>\n",
       "    </tr>\n",
       "    <tr>\n",
       "      <th>4</th>\n",
       "      <td>28</td>\n",
       "      <td>Private</td>\n",
       "      <td>Bachelors</td>\n",
       "      <td>Married-civ-spouse</td>\n",
       "      <td>Prof-specialty</td>\n",
       "      <td>Black</td>\n",
       "      <td>Female</td>\n",
       "      <td>40</td>\n",
       "      <td>&lt;=50K</td>\n",
       "    </tr>\n",
       "    <tr>\n",
       "      <th>5</th>\n",
       "      <td>37</td>\n",
       "      <td>Private</td>\n",
       "      <td>Masters</td>\n",
       "      <td>Married-civ-spouse</td>\n",
       "      <td>Exec-managerial</td>\n",
       "      <td>White</td>\n",
       "      <td>Female</td>\n",
       "      <td>40</td>\n",
       "      <td>&lt;=50K</td>\n",
       "    </tr>\n",
       "    <tr>\n",
       "      <th>6</th>\n",
       "      <td>49</td>\n",
       "      <td>Private</td>\n",
       "      <td>9th</td>\n",
       "      <td>Married-spouse-absent</td>\n",
       "      <td>Other-service</td>\n",
       "      <td>Black</td>\n",
       "      <td>Female</td>\n",
       "      <td>16</td>\n",
       "      <td>&lt;=50K</td>\n",
       "    </tr>\n",
       "    <tr>\n",
       "      <th>7</th>\n",
       "      <td>52</td>\n",
       "      <td>Self-emp-not-inc</td>\n",
       "      <td>HS-grad</td>\n",
       "      <td>Married-civ-spouse</td>\n",
       "      <td>Exec-managerial</td>\n",
       "      <td>White</td>\n",
       "      <td>Male</td>\n",
       "      <td>45</td>\n",
       "      <td>&gt;50K</td>\n",
       "    </tr>\n",
       "    <tr>\n",
       "      <th>8</th>\n",
       "      <td>31</td>\n",
       "      <td>Private</td>\n",
       "      <td>Masters</td>\n",
       "      <td>Never-married</td>\n",
       "      <td>Prof-specialty</td>\n",
       "      <td>White</td>\n",
       "      <td>Female</td>\n",
       "      <td>50</td>\n",
       "      <td>&gt;50K</td>\n",
       "    </tr>\n",
       "    <tr>\n",
       "      <th>9</th>\n",
       "      <td>42</td>\n",
       "      <td>Private</td>\n",
       "      <td>Bachelors</td>\n",
       "      <td>Married-civ-spouse</td>\n",
       "      <td>Exec-managerial</td>\n",
       "      <td>White</td>\n",
       "      <td>Male</td>\n",
       "      <td>40</td>\n",
       "      <td>&gt;50K</td>\n",
       "    </tr>\n",
       "  </tbody>\n",
       "</table>\n",
       "</div>"
      ],
      "text/plain": [
       "   age          workClass   Education          marital-status  \\\n",
       "0   39          State-gov   Bachelors           Never-married   \n",
       "1   50   Self-emp-not-inc   Bachelors      Married-civ-spouse   \n",
       "2   38            Private     HS-grad                Divorced   \n",
       "3   53            Private        11th      Married-civ-spouse   \n",
       "4   28            Private   Bachelors      Married-civ-spouse   \n",
       "5   37            Private     Masters      Married-civ-spouse   \n",
       "6   49            Private         9th   Married-spouse-absent   \n",
       "7   52   Self-emp-not-inc     HS-grad      Married-civ-spouse   \n",
       "8   31            Private     Masters           Never-married   \n",
       "9   42            Private   Bachelors      Married-civ-spouse   \n",
       "\n",
       "           occupation    race      sex  hours-per-week  Income  \n",
       "0        Adm-clerical   White     Male              40   <=50K  \n",
       "1     Exec-managerial   White     Male              13   <=50K  \n",
       "2   Handlers-cleaners   White     Male              40   <=50K  \n",
       "3   Handlers-cleaners   Black     Male              40   <=50K  \n",
       "4      Prof-specialty   Black   Female              40   <=50K  \n",
       "5     Exec-managerial   White   Female              40   <=50K  \n",
       "6       Other-service   Black   Female              16   <=50K  \n",
       "7     Exec-managerial   White     Male              45    >50K  \n",
       "8      Prof-specialty   White   Female              50    >50K  \n",
       "9     Exec-managerial   White     Male              40    >50K  "
      ]
     },
     "execution_count": 20,
     "metadata": {},
     "output_type": "execute_result"
    }
   ],
   "source": [
    "#Show a sample of the data (first 10 rows)\n",
    "df.iloc[:10]"
   ]
  },
  {
   "cell_type": "code",
   "execution_count": 21,
   "id": "03599315",
   "metadata": {},
   "outputs": [
    {
     "data": {
      "text/html": [
       "<div>\n",
       "<style scoped>\n",
       "    .dataframe tbody tr th:only-of-type {\n",
       "        vertical-align: middle;\n",
       "    }\n",
       "\n",
       "    .dataframe tbody tr th {\n",
       "        vertical-align: top;\n",
       "    }\n",
       "\n",
       "    .dataframe thead th {\n",
       "        text-align: right;\n",
       "    }\n",
       "</style>\n",
       "<table border=\"1\" class=\"dataframe\">\n",
       "  <thead>\n",
       "    <tr style=\"text-align: right;\">\n",
       "      <th></th>\n",
       "      <th>age</th>\n",
       "      <th>hours-per-week</th>\n",
       "    </tr>\n",
       "  </thead>\n",
       "  <tbody>\n",
       "    <tr>\n",
       "      <th>count</th>\n",
       "      <td>32561.000000</td>\n",
       "      <td>32561.000000</td>\n",
       "    </tr>\n",
       "    <tr>\n",
       "      <th>mean</th>\n",
       "      <td>38.581647</td>\n",
       "      <td>40.437456</td>\n",
       "    </tr>\n",
       "    <tr>\n",
       "      <th>std</th>\n",
       "      <td>13.640433</td>\n",
       "      <td>12.347429</td>\n",
       "    </tr>\n",
       "    <tr>\n",
       "      <th>min</th>\n",
       "      <td>17.000000</td>\n",
       "      <td>1.000000</td>\n",
       "    </tr>\n",
       "    <tr>\n",
       "      <th>25%</th>\n",
       "      <td>28.000000</td>\n",
       "      <td>40.000000</td>\n",
       "    </tr>\n",
       "    <tr>\n",
       "      <th>50%</th>\n",
       "      <td>37.000000</td>\n",
       "      <td>40.000000</td>\n",
       "    </tr>\n",
       "    <tr>\n",
       "      <th>75%</th>\n",
       "      <td>48.000000</td>\n",
       "      <td>45.000000</td>\n",
       "    </tr>\n",
       "    <tr>\n",
       "      <th>max</th>\n",
       "      <td>90.000000</td>\n",
       "      <td>99.000000</td>\n",
       "    </tr>\n",
       "  </tbody>\n",
       "</table>\n",
       "</div>"
      ],
      "text/plain": [
       "                age  hours-per-week\n",
       "count  32561.000000    32561.000000\n",
       "mean      38.581647       40.437456\n",
       "std       13.640433       12.347429\n",
       "min       17.000000        1.000000\n",
       "25%       28.000000       40.000000\n",
       "50%       37.000000       40.000000\n",
       "75%       48.000000       45.000000\n",
       "max       90.000000       99.000000"
      ]
     },
     "execution_count": 21,
     "metadata": {},
     "output_type": "execute_result"
    }
   ],
   "source": [
    "#Show some statistics about the data\n",
    "df.describe()"
   ]
  },
  {
   "cell_type": "code",
   "execution_count": 22,
   "id": "0afdf6ba",
   "metadata": {},
   "outputs": [
    {
     "name": "stdout",
     "output_type": "stream",
     "text": [
      "<class 'pandas.core.frame.DataFrame'>\n",
      "RangeIndex: 32561 entries, 0 to 32560\n",
      "Data columns (total 9 columns):\n",
      " #   Column          Non-Null Count  Dtype \n",
      "---  ------          --------------  ----- \n",
      " 0   age             32561 non-null  int64 \n",
      " 1   workClass       32561 non-null  object\n",
      " 2   Education       32561 non-null  object\n",
      " 3   marital-status  32561 non-null  object\n",
      " 4   occupation      32561 non-null  object\n",
      " 5   race            32561 non-null  object\n",
      " 6   sex             32561 non-null  object\n",
      " 7   hours-per-week  32561 non-null  int64 \n",
      " 8   Income          32561 non-null  object\n",
      "dtypes: int64(2), object(7)\n",
      "memory usage: 2.2+ MB\n"
     ]
    }
   ],
   "source": [
    "#Show info about the data\n",
    "df.info()"
   ]
  },
  {
   "cell_type": "code",
   "execution_count": 23,
   "id": "819fa3e9",
   "metadata": {},
   "outputs": [
    {
     "name": "stdout",
     "output_type": "stream",
     "text": [
      "Value counts for feature workClass:\n",
      " Private             22696\n",
      " Self-emp-not-inc     2541\n",
      " Local-gov            2093\n",
      " ?                    1836\n",
      " State-gov            1298\n",
      " Self-emp-inc         1116\n",
      " Federal-gov           960\n",
      " Without-pay            14\n",
      " Never-worked            7\n",
      "Name: workClass, dtype: int64\n",
      "Value counts for feature Education:\n",
      " HS-grad         10501\n",
      " Some-college     7291\n",
      " Bachelors        5355\n",
      " Masters          1723\n",
      " Assoc-voc        1382\n",
      " 11th             1175\n",
      " Assoc-acdm       1067\n",
      " 10th              933\n",
      " 7th-8th           646\n",
      " Prof-school       576\n",
      " 9th               514\n",
      " 12th              433\n",
      " Doctorate         413\n",
      " 5th-6th           333\n",
      " 1st-4th           168\n",
      " Preschool          51\n",
      "Name: Education, dtype: int64\n",
      "Value counts for feature marital-status:\n",
      " Married-civ-spouse       14976\n",
      " Never-married            10683\n",
      " Divorced                  4443\n",
      " Separated                 1025\n",
      " Widowed                    993\n",
      " Married-spouse-absent      418\n",
      " Married-AF-spouse           23\n",
      "Name: marital-status, dtype: int64\n",
      "Value counts for feature occupation:\n",
      " Prof-specialty       4140\n",
      " Craft-repair         4099\n",
      " Exec-managerial      4066\n",
      " Adm-clerical         3770\n",
      " Sales                3650\n",
      " Other-service        3295\n",
      " Machine-op-inspct    2002\n",
      " ?                    1843\n",
      " Transport-moving     1597\n",
      " Handlers-cleaners    1370\n",
      " Farming-fishing       994\n",
      " Tech-support          928\n",
      " Protective-serv       649\n",
      " Priv-house-serv       149\n",
      " Armed-Forces            9\n",
      "Name: occupation, dtype: int64\n",
      "Value counts for feature race:\n",
      " White                 27816\n",
      " Black                  3124\n",
      " Asian-Pac-Islander     1039\n",
      " Amer-Indian-Eskimo      311\n",
      " Other                   271\n",
      "Name: race, dtype: int64\n",
      "Value counts for feature sex:\n",
      " Male      21790\n",
      " Female    10771\n",
      "Name: sex, dtype: int64\n",
      "Value counts for feature Income:\n",
      " <=50K    24720\n",
      " >50K      7841\n",
      "Name: Income, dtype: int64\n"
     ]
    }
   ],
   "source": [
    "for feature in df.columns:\n",
    "    if df[feature].dtype == 'object':\n",
    "        value_counts = df[feature].value_counts()\n",
    "        print(f\"Value counts for feature {feature}:\")\n",
    "        print(value_counts)"
   ]
  },
  {
   "cell_type": "code",
   "execution_count": 24,
   "id": "6819b93e",
   "metadata": {},
   "outputs": [
    {
     "name": "stdout",
     "output_type": "stream",
     "text": [
      "After Droping missing values (30718, 9)\n"
     ]
    }
   ],
   "source": [
    "#Dealing with the missing data.\n",
    "#Replace missing values with NaN\n",
    "df = df.replace(' ?', pd.NaT)\n",
    "# Drop rows with NaN values\n",
    "df = df.dropna()\n",
    "print('After Droping missing values',df.shape)"
   ]
  },
  {
   "cell_type": "code",
   "execution_count": 25,
   "id": "c0c6d827",
   "metadata": {},
   "outputs": [],
   "source": [
    "from sklearn.preprocessing import LabelEncoder\n",
    "\n",
    "le = LabelEncoder()\n",
    "\n",
    "# Encode categorical variables as numerical labels\n",
    "df['workClass'] = le.fit_transform(df['workClass'])\n",
    "df['Education'] = le.fit_transform(df['Education'])\n",
    "df['marital-status'] = le.fit_transform(df['marital-status'])\n",
    "df['occupation'] = le.fit_transform(df['occupation'])\n",
    "df['race'] = le.fit_transform(df['race'])\n",
    "df['sex'] = le.fit_transform(df['sex'])\n",
    "df['Income'] = le.fit_transform(df['Income'])"
   ]
  },
  {
   "cell_type": "code",
   "execution_count": 26,
   "id": "d99723ad",
   "metadata": {},
   "outputs": [
    {
     "name": "stdout",
     "output_type": "stream",
     "text": [
      "age               int64\n",
      "workClass         int32\n",
      "Education         int32\n",
      "marital-status    int32\n",
      "occupation        int32\n",
      "race              int32\n",
      "sex               int32\n",
      "hours-per-week    int64\n",
      "Income            int32\n",
      "dtype: object\n"
     ]
    }
   ],
   "source": [
    "# Check the data types of all the columns\n",
    "print(df.dtypes)"
   ]
  },
  {
   "cell_type": "code",
   "execution_count": 27,
   "id": "770475f2",
   "metadata": {},
   "outputs": [
    {
     "name": "stdout",
     "output_type": "stream",
     "text": [
      "workClass [5 4 2 0 1 3 6] \n",
      "\n",
      "Education [ 9 11  1 12  6 15  7  8  5 10 14  4  0 13  2  3] \n",
      "\n",
      "marital-status [4 2 0 3 5 1 6] \n",
      "\n",
      "occupation [ 0  3  5  9  7 11  2 13  4  6 12 10  1  8] \n",
      "\n",
      "race [4 2 1 0 3] \n",
      "\n",
      "sex [1 0] \n",
      "\n",
      "Income [0 1] \n",
      "\n"
     ]
    }
   ],
   "source": [
    "# Print unique values in each column (excluding 'age' and 'hours_per_week')\n",
    "for col in df.columns:\n",
    "    if col not in ['age', 'hours-per-week']:\n",
    "        print(col, df[col].unique(), '\\n')"
   ]
  },
  {
   "cell_type": "code",
   "execution_count": 28,
   "id": "cc792469",
   "metadata": {},
   "outputs": [],
   "source": [
    "#Eliminate any columns from the data that may not be relevant to your objectives\n",
    "#Eliminate race and sex\n",
    "df = df.drop(['race', 'sex'], axis=1)"
   ]
  },
  {
   "cell_type": "code",
   "execution_count": 29,
   "id": "394b5d47",
   "metadata": {},
   "outputs": [
    {
     "data": {
      "text/plain": [
       "(30718, 7)"
      ]
     },
     "execution_count": 29,
     "metadata": {},
     "output_type": "execute_result"
    }
   ],
   "source": [
    "df.shape"
   ]
  },
  {
   "cell_type": "code",
   "execution_count": 30,
   "id": "90d8d5cc",
   "metadata": {},
   "outputs": [],
   "source": [
    "#Define X and y \n",
    "X = df.drop('Income', axis=1)\n",
    "y=df['Income']\n",
    "X=np.array(X)\n",
    "y=np.array(y)"
   ]
  },
  {
   "cell_type": "code",
   "execution_count": 31,
   "id": "96ae04e5",
   "metadata": {},
   "outputs": [],
   "source": [
    "#Normalize the input features using StandardScaler\n",
    "from sklearn.preprocessing import StandardScaler\n",
    "scaler = StandardScaler()\n",
    "X = scaler.fit_transform(X)"
   ]
  },
  {
   "cell_type": "code",
   "execution_count": 32,
   "id": "92b5a62f",
   "metadata": {},
   "outputs": [
    {
     "name": "stdout",
     "output_type": "stream",
     "text": [
      "Eigen-values:\n",
      " [208.5522091  178.67101479 174.90724483 172.78246481 164.09440341\n",
      " 146.68792345]\n"
     ]
    },
    {
     "data": {
      "image/png": "[encoded data removed]",
      "text/plain": [
       "<Figure size 640x480 with 1 Axes>"
      ]
     },
     "metadata": {},
     "output_type": "display_data"
    },
    {
     "name": "stdout",
     "output_type": "stream",
     "text": [
      "sv =\n",
      " [0.1994388  0.37030217 0.53756624 0.70279838 0.85972211 1.        ]\n"
     ]
    }
   ],
   "source": [
    "#Dimensionality reduction analysis on the data(Single Value Decomposition)\n",
    "U, s, VT = np.linalg.svd(X.T)\n",
    "print('Eigen-values:\\n',s)\n",
    "sv = np.cumsum(s)/sum(s)\n",
    "plt.step(list(range(len(sv))),sv)\n",
    "plt.title(\"Screen Plot for given data \")\n",
    "plt.show()\n",
    "print('sv =\\n', sv)"
   ]
  },
  {
   "cell_type": "code",
   "execution_count": 33,
   "id": "992c8f98",
   "metadata": {},
   "outputs": [
    {
     "name": "stdout",
     "output_type": "stream",
     "text": [
      "After dimension Deduction (30718, 6)\n"
     ]
    }
   ],
   "source": [
    "sig = np.zeros((X.T.shape[0], X.T.shape[1]))\n",
    "sig[:X.T.shape[0], :X.T.shape[0]] = np.diag(s)\n",
    "h = np.dot(np.dot(U, sig), VT)\n",
    "Xr = np.dot(U.T[0:6,:], X.T)\n",
    "X_svd=Xr.T\n",
    "print('After dimension Deduction',X_svd.shape)"
   ]
  },
  {
   "cell_type": "code",
   "execution_count": 34,
   "id": "f944691a",
   "metadata": {},
   "outputs": [],
   "source": [
    "#Split the data into testing and training subsets\n",
    "from sklearn.model_selection import train_test_split\n",
    "X_train,X_test,y_train,y_test=train_test_split(X_svd,y,test_size=0.3,random_state=47,stratify=y)"
   ]
  },
  {
   "cell_type": "code",
   "execution_count": 35,
   "id": "f8df178f",
   "metadata": {},
   "outputs": [
    {
     "data": {
      "text/plain": [
       "MLPClassifier(alpha=0.01, hidden_layer_sizes=(100, 500), max_iter=500)"
      ]
     },
     "execution_count": 35,
     "metadata": {},
     "output_type": "execute_result"
    }
   ],
   "source": [
    "#Multi-layer Perceptron class with two hidden layers.\n",
    "from sklearn.neural_network import MLPClassifier\n",
    "mlp = MLPClassifier(hidden_layer_sizes=(100, 500), activation='relu', solver='adam', alpha=0.01,max_iter=500)\n",
    "mlp.fit(X_train, y_train)"
   ]
  },
  {
   "cell_type": "code",
   "execution_count": 36,
   "id": "21d72151",
   "metadata": {},
   "outputs": [
    {
     "name": "stdout",
     "output_type": "stream",
     "text": [
      "Confusion matrix for Multi-layer Perceptron class with two hidden layers\n",
      "\n",
      "[[6292  629]\n",
      " [1011 1284]]\n",
      "\n",
      "Classification report for Multi-layer Perceptron class with two hidden layers:\n",
      "\n",
      "              precision    recall  f1-score   support\n",
      "\n",
      "           0       0.86      0.91      0.88      6921\n",
      "           1       0.67      0.56      0.61      2295\n",
      "\n",
      "    accuracy                           0.82      9216\n",
      "   macro avg       0.77      0.73      0.75      9216\n",
      "weighted avg       0.81      0.82      0.82      9216\n",
      "\n"
     ]
    }
   ],
   "source": [
    "#Confusion matrix and the classification report for Multi-layer Perceptron class with two hidden layers.\n",
    "from sklearn.metrics import classification_report, confusion_matrix  \n",
    "preds_mlp_2hiddenlayer = mlp.predict(X_test)\n",
    "cm_mlp_2hiddenlayer = confusion_matrix(y_test, preds_mlp_2hiddenlayer)\n",
    "print(\"Confusion matrix for Multi-layer Perceptron class with two hidden layers\\n\")\n",
    "print(cm_mlp_2hiddenlayer)\n",
    "print(\"\\nClassification report for Multi-layer Perceptron class with two hidden layers:\\n\")\n",
    "print(classification_report(y_test, preds_mlp_2hiddenlayer)) "
   ]
  },
  {
   "cell_type": "code",
   "execution_count": 37,
   "id": "fd10f264",
   "metadata": {},
   "outputs": [
    {
     "name": "stdout",
     "output_type": "stream",
     "text": [
      "Accuracy Score with two hidden layers: 0.8220486111111112\n"
     ]
    }
   ],
   "source": [
    "#Accuracy Score for Multi-layer Perceptron class with two hidden layers.\n",
    "from sklearn.metrics import accuracy_score\n",
    "score_mlp_2hiddenlayer = accuracy_score(y_test, preds_mlp_2hiddenlayer)\n",
    "print(\"Accuracy Score with two hidden layers:\",score_mlp_2hiddenlayer)"
   ]
  },
  {
   "cell_type": "code",
   "execution_count": 38,
   "id": "12c50186",
   "metadata": {},
   "outputs": [
    {
     "data": {
      "text/plain": [
       "MLPClassifier(alpha=0.01, hidden_layer_sizes=(100, 500, 80), max_iter=500)"
      ]
     },
     "execution_count": 38,
     "metadata": {},
     "output_type": "execute_result"
    }
   ],
   "source": [
    "#Use the Multi-layer Perceptron class with three hidden layers.\n",
    "mlp_3hl = MLPClassifier(hidden_layer_sizes=(100, 500,80), activation='relu', solver='adam', alpha=0.01,max_iter=500)\n",
    "mlp_3hl.fit(X_train, y_train)"
   ]
  },
  {
   "cell_type": "code",
   "execution_count": 39,
   "id": "7100460e",
   "metadata": {},
   "outputs": [
    {
     "name": "stdout",
     "output_type": "stream",
     "text": [
      "Confusion matrix for Multi-layer Perceptron class with three hidden layers\n",
      "\n",
      "[[6162  759]\n",
      " [ 969 1326]]\n",
      "\n",
      "Classification report for Multi-layer Perceptron class with three hidden layers:\n",
      "\n",
      "              precision    recall  f1-score   support\n",
      "\n",
      "           0       0.86      0.89      0.88      6921\n",
      "           1       0.64      0.58      0.61      2295\n",
      "\n",
      "    accuracy                           0.81      9216\n",
      "   macro avg       0.75      0.73      0.74      9216\n",
      "weighted avg       0.81      0.81      0.81      9216\n",
      "\n"
     ]
    }
   ],
   "source": [
    "#Confusion matrix and the classification report for Multi-layer Perceptron class with three hidden layers.\n",
    "preds_mlp_3hiddenlayer = mlp_3hl.predict(X_test)\n",
    "cm_mlp_3hiddenlayer = confusion_matrix(y_test, preds_mlp_3hiddenlayer)\n",
    "print(\"Confusion matrix for Multi-layer Perceptron class with three hidden layers\\n\")\n",
    "print(cm_mlp_3hiddenlayer)\n",
    "print(\"\\nClassification report for Multi-layer Perceptron class with three hidden layers:\\n\")\n",
    "print(classification_report(y_test, preds_mlp_3hiddenlayer)) "
   ]
  },
  {
   "cell_type": "code",
   "execution_count": 40,
   "id": "afade860",
   "metadata": {},
   "outputs": [
    {
     "name": "stdout",
     "output_type": "stream",
     "text": [
      "Accuracy Score with three hidden layers: 0.8125\n"
     ]
    }
   ],
   "source": [
    "#Accuracy Score for Multi-layer Perceptron class with three hidden layers.\n",
    "from sklearn.metrics import accuracy_score\n",
    "score_mlp_3hiddenlayer = accuracy_score(y_test, preds_mlp_3hiddenlayer)\n",
    "print(\"Accuracy Score with three hidden layers:\",score_mlp_3hiddenlayer)"
   ]
  },
  {
   "cell_type": "code",
   "execution_count": 41,
   "id": "99f7dad9",
   "metadata": {},
   "outputs": [
    {
     "data": {
      "text/plain": [
       "LogisticRegression()"
      ]
     },
     "execution_count": 41,
     "metadata": {},
     "output_type": "execute_result"
    }
   ],
   "source": [
    "#Logistic Regression for above dataset\n",
    "from sklearn.linear_model import LogisticRegression\n",
    "from sklearn.metrics import accuracy_score\n",
    "clf = LogisticRegression()\n",
    "clf.fit(X_train, y_train)"
   ]
  },
  {
   "cell_type": "code",
   "execution_count": 42,
   "id": "41932091",
   "metadata": {},
   "outputs": [
    {
     "name": "stdout",
     "output_type": "stream",
     "text": [
      "Accuracy for Logistric Regression: 0.740234375\n"
     ]
    }
   ],
   "source": [
    "#Accuracy Score for Logistric Regression\n",
    "y_pred_log = clf.predict(X_test)\n",
    "acc = accuracy_score(y_test, y_pred_log)\n",
    "print(f\"Accuracy for Logistric Regression: {acc}\")"
   ]
  },
  {
   "cell_type": "code",
   "execution_count": 45,
   "id": "403ffcb7",
   "metadata": {},
   "outputs": [
    {
     "name": "stdout",
     "output_type": "stream",
     "text": [
      "Confusion matrix for Logistric Regression:\n",
      " [[6522  399]\n",
      " [1995  300]]\n",
      "\n",
      "Classification report for Logistric Regression:\n",
      "\n",
      "              precision    recall  f1-score   support\n",
      "\n",
      "           0       0.77      0.94      0.84      6921\n",
      "           1       0.43      0.13      0.20      2295\n",
      "\n",
      "    accuracy                           0.74      9216\n",
      "   macro avg       0.60      0.54      0.52      9216\n",
      "weighted avg       0.68      0.74      0.68      9216\n",
      "\n"
     ]
    }
   ],
   "source": [
    "#Confusion matrix and the classification report for Logistic Regression\n",
    "from sklearn.metrics import classification_report, confusion_matrix  \n",
    "cm_log =confusion_matrix(y_test, y_pred_log)\n",
    "print(\"Confusion matrix for Logistric Regression:\\n\",cm_log)\n",
    "print(\"\\nClassification report for Logistric Regression:\\n\")\n",
    "print(classification_report(y_test,y_pred_log)) "
   ]
  },
  {
   "cell_type": "code",
   "execution_count": 43,
   "id": "410676fc",
   "metadata": {},
   "outputs": [
    {
     "name": "stdout",
     "output_type": "stream",
     "text": [
      "Confusion matrix for Naive Bayes:\n",
      " [[6490  431]\n",
      " [1605  690]]\n",
      "\n",
      "Classification report for Naive Bayes:\n",
      "\n",
      "              precision    recall  f1-score   support\n",
      "\n",
      "           0       0.80      0.94      0.86      6921\n",
      "           1       0.62      0.30      0.40      2295\n",
      "\n",
      "    accuracy                           0.78      9216\n",
      "   macro avg       0.71      0.62      0.63      9216\n",
      "weighted avg       0.76      0.78      0.75      9216\n",
      "\n",
      "Accuracy for Naive Bayes:  0.7790798611111112\n"
     ]
    }
   ],
   "source": [
    "#Using the Naïve Bayes algorithm. \n",
    "from sklearn.naive_bayes import GaussianNB\n",
    "\n",
    "nb = GaussianNB()\n",
    "nb.fit(X_train, y_train)\n",
    "y_pred_naive = nb.predict(X_test)\n",
    "\n",
    "print(\"Confusion matrix for Naive Bayes:\\n\",confusion_matrix(y_test, y_pred_naive))\n",
    "print(\"\\nClassification report for Naive Bayes:\\n\")\n",
    "print(classification_report(y_test, y_pred_naive))\n",
    "accuracy_naive = accuracy_score(y_test, y_pred_naive)\n",
    "print(f\"Accuracy for Naive Bayes: \",accuracy_naive)"
   ]
  },
  {
   "cell_type": "code",
   "execution_count": 44,
   "id": "eb66bd7a",
   "metadata": {},
   "outputs": [
    {
     "name": "stdout",
     "output_type": "stream",
     "text": [
      "Clustering accuracy: 0.5969789699850251\n"
     ]
    }
   ],
   "source": [
    "#Using the K-Means clustering algorithm on the dataset \n",
    "from sklearn.cluster import KMeans\n",
    "\n",
    "kmeans = KMeans(n_clusters=2, random_state=42)\n",
    "kmeans.fit(X)\n",
    "labels = kmeans.predict(X)\n",
    "\n",
    "# check the accuracy of clustering with income\n",
    "income_labels = df['Income'].apply(lambda x: 0 if x == '<=50K' else 1)\n",
    "accuracy_kmeans = sum(labels == income_labels) / len(df)\n",
    "print(f\"Clustering accuracy: {accuracy_kmeans}\")\n"
   ]
  }
 ],
 "metadata": {
  "kernelspec": {
   "display_name": "Python 3 (ipykernel)",
   "language": "python",
   "name": "python3"
  },
  "language_info": {
   "codemirror_mode": {
    "name": "ipython",
    "version": 3
   },
   "file_extension": ".py",
   "mimetype": "text/x-python",
   "name": "python",
   "nbconvert_exporter": "python",
   "pygments_lexer": "ipython3",
   "version": "3.9.13"
  }
 },
 "nbformat": 4,
 "nbformat_minor": 5
}
